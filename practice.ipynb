{
 "cells": [
  {
   "cell_type": "markdown",
   "metadata": {},
   "source": [
    "# Sales by Match "
   ]
  },
  {
   "cell_type": "code",
   "execution_count": 76,
   "metadata": {},
   "outputs": [],
   "source": [
    "import math"
   ]
  },
  {
   "cell_type": "code",
   "execution_count": 124,
   "metadata": {},
   "outputs": [],
   "source": [
    "c = [0, 0, 0, 1, 0, 0]\n",
    "# expected 3"
   ]
  },
  {
   "cell_type": "code",
   "execution_count": 127,
   "metadata": {},
   "outputs": [],
   "source": [
    "def jumpingOnClouds(c):\n",
    "    \n",
    "    jumps_count = 0\n",
    "    \n",
    "    cursor = 0\n",
    "    \n",
    "    while cursor != len(c)-1:\n",
    "                \n",
    "        if cursor < len(c)-2 and c[cursor+2] != 1:\n",
    "\n",
    "            cursor += 2\n",
    "            jumps_count += 1\n",
    "            \n",
    "        else:\n",
    "            \n",
    "            cursor += 1\n",
    "            jumps_count += 1\n",
    "                        \n",
    "    return jumps_count"
   ]
  },
  {
   "cell_type": "code",
   "execution_count": 128,
   "metadata": {},
   "outputs": [
    {
     "name": "stdout",
     "output_type": "stream",
     "text": [
      "3\n"
     ]
    }
   ],
   "source": [
    "if __name__ == '__main__':\n",
    "    \n",
    "    r = jumpingOnClouds(c)\n",
    "    \n",
    "    print(r)"
   ]
  },
  {
   "cell_type": "code",
   "execution_count": 77,
   "metadata": {},
   "outputs": [
    {
     "data": {
      "text/plain": [
       "3"
      ]
     },
     "execution_count": 77,
     "metadata": {},
     "output_type": "execute_result"
    }
   ],
   "source": [
    "math.ceil(5/2)"
   ]
  },
  {
   "cell_type": "code",
   "execution_count": 104,
   "metadata": {},
   "outputs": [
    {
     "name": "stdout",
     "output_type": "stream",
     "text": [
      "3\n"
     ]
    }
   ],
   "source": [
    "jumps_count = 0\n",
    "\n",
    "state = 0\n",
    "\n",
    "for i in range(len(c)):\n",
    "    \n",
    "    if c[i] == 0:\n",
    "\n",
    "        state += 1\n",
    "\n",
    "    else:\n",
    "        jumps_count += math.ceil(state/2)\n",
    "        state = 0\n",
    "        \n",
    "jumps_count += math.ceil(state/2)\n",
    "        \n",
    "print(jumps_count)"
   ]
  },
  {
   "cell_type": "code",
   "execution_count": null,
   "metadata": {},
   "outputs": [],
   "source": [
    "math.ceil(4)"
   ]
  }
 ],
 "metadata": {
  "kernelspec": {
   "display_name": "Python 3",
   "language": "python",
   "name": "python3"
  },
  "language_info": {
   "codemirror_mode": {
    "name": "ipython",
    "version": 3
   },
   "file_extension": ".py",
   "mimetype": "text/x-python",
   "name": "python",
   "nbconvert_exporter": "python",
   "pygments_lexer": "ipython3",
   "version": "3.7.3"
  }
 },
 "nbformat": 4,
 "nbformat_minor": 2
}
